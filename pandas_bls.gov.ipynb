{
 "cells": [
  {
   "cell_type": "code",
   "execution_count": 2,
   "metadata": {
    "collapsed": true
   },
   "outputs": [],
   "source": [
    "import pandas as pd"
   ]
  },
  {
   "cell_type": "code",
   "execution_count": 6,
   "metadata": {
    "collapsed": false
   },
   "outputs": [
    {
     "name": "stderr",
     "output_type": "stream",
     "text": [
      "/home/esfp/anaconda3/lib/python3.5/site-packages/IPython/core/interactiveshell.py:2717: DtypeWarning: Columns (3) have mixed types. Specify dtype option on import or set low_memory=False.\n",
      "  interactivity=interactivity, compiler=compiler, result=result)\n"
     ]
    },
    {
     "data": {
      "text/html": [
       "<div>\n",
       "<table border=\"1\" class=\"dataframe\">\n",
       "  <thead>\n",
       "    <tr style=\"text-align: right;\">\n",
       "      <th></th>\n",
       "      <th>series_id</th>\n",
       "      <th>year</th>\n",
       "      <th>period</th>\n",
       "      <th>value</th>\n",
       "      <th>footnote_codes</th>\n",
       "    </tr>\n",
       "  </thead>\n",
       "  <tbody>\n",
       "    <tr>\n",
       "      <th>0</th>\n",
       "      <td>SMS01000000000000001</td>\n",
       "      <td>1990</td>\n",
       "      <td>M01</td>\n",
       "      <td>1623.1</td>\n",
       "      <td></td>\n",
       "    </tr>\n",
       "    <tr>\n",
       "      <th>1</th>\n",
       "      <td>SMS01000000000000001</td>\n",
       "      <td>1990</td>\n",
       "      <td>M02</td>\n",
       "      <td>1621.3</td>\n",
       "      <td></td>\n",
       "    </tr>\n",
       "    <tr>\n",
       "      <th>2</th>\n",
       "      <td>SMS01000000000000001</td>\n",
       "      <td>1990</td>\n",
       "      <td>M03</td>\n",
       "      <td>1620.6</td>\n",
       "      <td></td>\n",
       "    </tr>\n",
       "    <tr>\n",
       "      <th>3</th>\n",
       "      <td>SMS01000000000000001</td>\n",
       "      <td>1990</td>\n",
       "      <td>M04</td>\n",
       "      <td>1634</td>\n",
       "      <td></td>\n",
       "    </tr>\n",
       "    <tr>\n",
       "      <th>4</th>\n",
       "      <td>SMS01000000000000001</td>\n",
       "      <td>1990</td>\n",
       "      <td>M05</td>\n",
       "      <td>1639.8</td>\n",
       "      <td></td>\n",
       "    </tr>\n",
       "  </tbody>\n",
       "</table>\n",
       "</div>"
      ],
      "text/plain": [
       "                        series_id  year period   value footnote_codes\n",
       "0  SMS01000000000000001            1990    M01  1623.1               \n",
       "1  SMS01000000000000001            1990    M02  1621.3               \n",
       "2  SMS01000000000000001            1990    M03  1620.6               \n",
       "3  SMS01000000000000001            1990    M04    1634               \n",
       "4  SMS01000000000000001            1990    M05  1639.8               "
      ]
     },
     "execution_count": 6,
     "metadata": {},
     "output_type": "execute_result"
    }
   ],
   "source": [
    "alldata = pd.read_csv('./sm.data.1.AllData', delimiter='\\t',index_col=False)\n",
    "alldata.head()"
   ]
  },
  {
   "cell_type": "markdown",
   "metadata": {},
   "source": [
    "###### check column names"
   ]
  },
  {
   "cell_type": "code",
   "execution_count": 11,
   "metadata": {
    "collapsed": false
   },
   "outputs": [
    {
     "data": {
      "text/plain": [
       "Index(['series_id', 'year', 'period', 'value', 'footnote_codes'], dtype='object')"
      ]
     },
     "execution_count": 11,
     "metadata": {},
     "output_type": "execute_result"
    }
   ],
   "source": [
    "alldata.columns"
   ]
  },
  {
   "cell_type": "markdown",
   "metadata": {},
   "source": [
    "###### filter columns"
   ]
  },
  {
   "cell_type": "code",
   "execution_count": 13,
   "metadata": {
    "collapsed": false
   },
   "outputs": [
    {
     "data": {
      "text/html": [
       "<div>\n",
       "<table border=\"1\" class=\"dataframe\">\n",
       "  <thead>\n",
       "    <tr style=\"text-align: right;\">\n",
       "      <th></th>\n",
       "      <th>series_id</th>\n",
       "      <th>year</th>\n",
       "      <th>period</th>\n",
       "      <th>value</th>\n",
       "    </tr>\n",
       "  </thead>\n",
       "  <tbody>\n",
       "    <tr>\n",
       "      <th>0</th>\n",
       "      <td>SMS01000000000000001</td>\n",
       "      <td>1990</td>\n",
       "      <td>M01</td>\n",
       "      <td>1623.1</td>\n",
       "    </tr>\n",
       "    <tr>\n",
       "      <th>1</th>\n",
       "      <td>SMS01000000000000001</td>\n",
       "      <td>1990</td>\n",
       "      <td>M02</td>\n",
       "      <td>1621.3</td>\n",
       "    </tr>\n",
       "    <tr>\n",
       "      <th>2</th>\n",
       "      <td>SMS01000000000000001</td>\n",
       "      <td>1990</td>\n",
       "      <td>M03</td>\n",
       "      <td>1620.6</td>\n",
       "    </tr>\n",
       "    <tr>\n",
       "      <th>3</th>\n",
       "      <td>SMS01000000000000001</td>\n",
       "      <td>1990</td>\n",
       "      <td>M04</td>\n",
       "      <td>1634</td>\n",
       "    </tr>\n",
       "    <tr>\n",
       "      <th>4</th>\n",
       "      <td>SMS01000000000000001</td>\n",
       "      <td>1990</td>\n",
       "      <td>M05</td>\n",
       "      <td>1639.8</td>\n",
       "    </tr>\n",
       "  </tbody>\n",
       "</table>\n",
       "</div>"
      ],
      "text/plain": [
       "                        series_id  year period   value\n",
       "0  SMS01000000000000001            1990    M01  1623.1\n",
       "1  SMS01000000000000001            1990    M02  1621.3\n",
       "2  SMS01000000000000001            1990    M03  1620.6\n",
       "3  SMS01000000000000001            1990    M04    1634\n",
       "4  SMS01000000000000001            1990    M05  1639.8"
      ]
     },
     "execution_count": 13,
     "metadata": {},
     "output_type": "execute_result"
    }
   ],
   "source": [
    "alldata=alldata[['series_id','year','period','value']]\n",
    "alldata.head()"
   ]
  },
  {
   "cell_type": "markdown",
   "metadata": {},
   "source": [
    "###### filter on years"
   ]
  },
  {
   "cell_type": "code",
   "execution_count": 14,
   "metadata": {
    "collapsed": false
   },
   "outputs": [
    {
     "data": {
      "text/html": [
       "<div>\n",
       "<table border=\"1\" class=\"dataframe\">\n",
       "  <thead>\n",
       "    <tr style=\"text-align: right;\">\n",
       "      <th></th>\n",
       "      <th>series_id</th>\n",
       "      <th>year</th>\n",
       "      <th>period</th>\n",
       "      <th>value</th>\n",
       "    </tr>\n",
       "  </thead>\n",
       "  <tbody>\n",
       "    <tr>\n",
       "      <th>48</th>\n",
       "      <td>SMS01000000000000001</td>\n",
       "      <td>1994</td>\n",
       "      <td>M01</td>\n",
       "      <td>1730.7</td>\n",
       "    </tr>\n",
       "    <tr>\n",
       "      <th>49</th>\n",
       "      <td>SMS01000000000000001</td>\n",
       "      <td>1994</td>\n",
       "      <td>M02</td>\n",
       "      <td>1733.3</td>\n",
       "    </tr>\n",
       "    <tr>\n",
       "      <th>50</th>\n",
       "      <td>SMS01000000000000001</td>\n",
       "      <td>1994</td>\n",
       "      <td>M03</td>\n",
       "      <td>1739.8</td>\n",
       "    </tr>\n",
       "    <tr>\n",
       "      <th>51</th>\n",
       "      <td>SMS01000000000000001</td>\n",
       "      <td>1994</td>\n",
       "      <td>M04</td>\n",
       "      <td>1742.9</td>\n",
       "    </tr>\n",
       "    <tr>\n",
       "      <th>52</th>\n",
       "      <td>SMS01000000000000001</td>\n",
       "      <td>1994</td>\n",
       "      <td>M05</td>\n",
       "      <td>1746.4</td>\n",
       "    </tr>\n",
       "  </tbody>\n",
       "</table>\n",
       "</div>"
      ],
      "text/plain": [
       "                         series_id  year period   value\n",
       "48  SMS01000000000000001            1994    M01  1730.7\n",
       "49  SMS01000000000000001            1994    M02  1733.3\n",
       "50  SMS01000000000000001            1994    M03  1739.8\n",
       "51  SMS01000000000000001            1994    M04  1742.9\n",
       "52  SMS01000000000000001            1994    M05  1746.4"
      ]
     },
     "execution_count": 14,
     "metadata": {},
     "output_type": "execute_result"
    }
   ],
   "source": [
    "a=alldata[(alldata.year > 1993) & (alldata.year < 2016)]\n",
    "a.head()"
   ]
  },
  {
   "cell_type": "code",
   "execution_count": null,
   "metadata": {
    "collapsed": true
   },
   "outputs": [],
   "source": []
  },
  {
   "cell_type": "markdown",
   "metadata": {},
   "source": [
    "##### Add quarter to data"
   ]
  },
  {
   "cell_type": "code",
   "execution_count": 16,
   "metadata": {
    "collapsed": false
   },
   "outputs": [
    {
     "name": "stderr",
     "output_type": "stream",
     "text": [
      "/home/esfp/anaconda3/lib/python3.5/site-packages/pandas/core/indexing.py:465: SettingWithCopyWarning: \n",
      "A value is trying to be set on a copy of a slice from a DataFrame.\n",
      "Try using .loc[row_indexer,col_indexer] = value instead\n",
      "\n",
      "See the caveats in the documentation: http://pandas.pydata.org/pandas-docs/stable/indexing.html#indexing-view-versus-copy\n",
      "  self.obj[item] = s\n"
     ]
    },
    {
     "data": {
      "text/html": [
       "<div>\n",
       "<table border=\"1\" class=\"dataframe\">\n",
       "  <thead>\n",
       "    <tr style=\"text-align: right;\">\n",
       "      <th></th>\n",
       "      <th>series_id</th>\n",
       "      <th>year</th>\n",
       "      <th>period</th>\n",
       "      <th>value</th>\n",
       "      <th>q</th>\n",
       "    </tr>\n",
       "  </thead>\n",
       "  <tbody>\n",
       "    <tr>\n",
       "      <th>48</th>\n",
       "      <td>SMS01000000000000001</td>\n",
       "      <td>1994</td>\n",
       "      <td>M01</td>\n",
       "      <td>1730.7</td>\n",
       "      <td>1</td>\n",
       "    </tr>\n",
       "    <tr>\n",
       "      <th>49</th>\n",
       "      <td>SMS01000000000000001</td>\n",
       "      <td>1994</td>\n",
       "      <td>M02</td>\n",
       "      <td>1733.3</td>\n",
       "      <td>1</td>\n",
       "    </tr>\n",
       "    <tr>\n",
       "      <th>50</th>\n",
       "      <td>SMS01000000000000001</td>\n",
       "      <td>1994</td>\n",
       "      <td>M03</td>\n",
       "      <td>1739.8</td>\n",
       "      <td>1</td>\n",
       "    </tr>\n",
       "    <tr>\n",
       "      <th>51</th>\n",
       "      <td>SMS01000000000000001</td>\n",
       "      <td>1994</td>\n",
       "      <td>M04</td>\n",
       "      <td>1742.9</td>\n",
       "      <td>2</td>\n",
       "    </tr>\n",
       "    <tr>\n",
       "      <th>52</th>\n",
       "      <td>SMS01000000000000001</td>\n",
       "      <td>1994</td>\n",
       "      <td>M05</td>\n",
       "      <td>1746.4</td>\n",
       "      <td>2</td>\n",
       "    </tr>\n",
       "  </tbody>\n",
       "</table>\n",
       "</div>"
      ],
      "text/plain": [
       "                         series_id  year period   value  q\n",
       "48  SMS01000000000000001            1994    M01  1730.7  1\n",
       "49  SMS01000000000000001            1994    M02  1733.3  1\n",
       "50  SMS01000000000000001            1994    M03  1739.8  1\n",
       "51  SMS01000000000000001            1994    M04  1742.9  2\n",
       "52  SMS01000000000000001            1994    M05  1746.4  2"
      ]
     },
     "execution_count": 16,
     "metadata": {},
     "output_type": "execute_result"
    }
   ],
   "source": [
    "a.loc[:,'q'] = 0;\n",
    "a.loc[a.period < 'M04', 'q']=1\n",
    "a.loc[(a.period > 'M03') & (a.period < 'M07'), 'q']=2\n",
    "a.loc[(a.period > 'M06') & (a.period < 'M10'), 'q']=3\n",
    "a.loc[a.period > 'M09', 'q']=4\n",
    "a.head()"
   ]
  },
  {
   "cell_type": "code",
   "execution_count": 22,
   "metadata": {
    "collapsed": false
   },
   "outputs": [
    {
     "data": {
      "text/plain": [
       "series_id    object\n",
       "year          int64\n",
       "period       object\n",
       "value        object\n",
       "q             int64\n",
       "dtype: object"
      ]
     },
     "execution_count": 22,
     "metadata": {},
     "output_type": "execute_result"
    }
   ],
   "source": [
    "a.dtypes\n"
   ]
  },
  {
   "cell_type": "markdown",
   "metadata": {},
   "source": [
    "###### value type is object which needs to be changed to numeric form for groupby "
   ]
  },
  {
   "cell_type": "code",
   "execution_count": 23,
   "metadata": {
    "collapsed": false
   },
   "outputs": [
    {
     "name": "stderr",
     "output_type": "stream",
     "text": [
      "/home/esfp/anaconda3/lib/python3.5/site-packages/ipykernel/__main__.py:1: SettingWithCopyWarning: \n",
      "A value is trying to be set on a copy of a slice from a DataFrame.\n",
      "Try using .loc[row_indexer,col_indexer] = value instead\n",
      "\n",
      "See the caveats in the documentation: http://pandas.pydata.org/pandas-docs/stable/indexing.html#indexing-view-versus-copy\n",
      "  if __name__ == '__main__':\n"
     ]
    }
   ],
   "source": [
    "a['value'] = a['value'].astype(float)"
   ]
  },
  {
   "cell_type": "code",
   "execution_count": 24,
   "metadata": {
    "collapsed": false
   },
   "outputs": [
    {
     "data": {
      "text/plain": [
       "series_id     object\n",
       "year           int64\n",
       "period        object\n",
       "value        float64\n",
       "q              int64\n",
       "dtype: object"
      ]
     },
     "execution_count": 24,
     "metadata": {},
     "output_type": "execute_result"
    }
   ],
   "source": [
    "a.dtypes"
   ]
  },
  {
   "cell_type": "code",
   "execution_count": 34,
   "metadata": {
    "collapsed": false
   },
   "outputs": [
    {
     "data": {
      "text/html": [
       "<div>\n",
       "<table border=\"1\" class=\"dataframe\">\n",
       "  <thead>\n",
       "    <tr style=\"text-align: right;\">\n",
       "      <th></th>\n",
       "      <th>series_id</th>\n",
       "      <th>year</th>\n",
       "      <th>q</th>\n",
       "      <th>value</th>\n",
       "    </tr>\n",
       "  </thead>\n",
       "  <tbody>\n",
       "    <tr>\n",
       "      <th>0</th>\n",
       "      <td>SMS01000000000000001</td>\n",
       "      <td>1994</td>\n",
       "      <td>1</td>\n",
       "      <td>1734.600000</td>\n",
       "    </tr>\n",
       "    <tr>\n",
       "      <th>1</th>\n",
       "      <td>SMS01000000000000001</td>\n",
       "      <td>1994</td>\n",
       "      <td>2</td>\n",
       "      <td>1749.033333</td>\n",
       "    </tr>\n",
       "    <tr>\n",
       "      <th>2</th>\n",
       "      <td>SMS01000000000000001</td>\n",
       "      <td>1994</td>\n",
       "      <td>3</td>\n",
       "      <td>1766.500000</td>\n",
       "    </tr>\n",
       "    <tr>\n",
       "      <th>3</th>\n",
       "      <td>SMS01000000000000001</td>\n",
       "      <td>1994</td>\n",
       "      <td>4</td>\n",
       "      <td>1783.433333</td>\n",
       "    </tr>\n",
       "    <tr>\n",
       "      <th>4</th>\n",
       "      <td>SMS01000000000000001</td>\n",
       "      <td>1995</td>\n",
       "      <td>1</td>\n",
       "      <td>1791.600000</td>\n",
       "    </tr>\n",
       "  </tbody>\n",
       "</table>\n",
       "</div>"
      ],
      "text/plain": [
       "                        series_id  year  q        value\n",
       "0  SMS01000000000000001            1994  1  1734.600000\n",
       "1  SMS01000000000000001            1994  2  1749.033333\n",
       "2  SMS01000000000000001            1994  3  1766.500000\n",
       "3  SMS01000000000000001            1994  4  1783.433333\n",
       "4  SMS01000000000000001            1995  1  1791.600000"
      ]
     },
     "execution_count": 34,
     "metadata": {},
     "output_type": "execute_result"
    }
   ],
   "source": [
    "b=a.groupby(['series_id','year','q'])['value'].mean().reset_index()   # .reset_index() keep it as dataframe\n",
    "b.head()"
   ]
  },
  {
   "cell_type": "code",
   "execution_count": null,
   "metadata": {
    "collapsed": true
   },
   "outputs": [],
   "source": []
  },
  {
   "cell_type": "code",
   "execution_count": null,
   "metadata": {
    "collapsed": true
   },
   "outputs": [],
   "source": []
  },
  {
   "cell_type": "code",
   "execution_count": null,
   "metadata": {
    "collapsed": true
   },
   "outputs": [],
   "source": []
  },
  {
   "cell_type": "code",
   "execution_count": 35,
   "metadata": {
    "collapsed": false
   },
   "outputs": [
    {
     "data": {
      "text/plain": [
       "Index(['series_id', 'year', 'q', 'value'], dtype='object')"
      ]
     },
     "execution_count": 35,
     "metadata": {},
     "output_type": "execute_result"
    }
   ],
   "source": [
    "b.columns"
   ]
  },
  {
   "cell_type": "code",
   "execution_count": 37,
   "metadata": {
    "collapsed": false
   },
   "outputs": [],
   "source": [
    "# b['year']"
   ]
  },
  {
   "cell_type": "code",
   "execution_count": 38,
   "metadata": {
    "collapsed": false
   },
   "outputs": [
    {
     "data": {
      "text/plain": [
       "pandas.core.frame.DataFrame"
      ]
     },
     "execution_count": 38,
     "metadata": {},
     "output_type": "execute_result"
    }
   ],
   "source": [
    "type(b)"
   ]
  },
  {
   "cell_type": "code",
   "execution_count": 91,
   "metadata": {
    "collapsed": false
   },
   "outputs": [
    {
     "data": {
      "text/html": [
       "<div>\n",
       "<table border=\"1\" class=\"dataframe\">\n",
       "  <thead>\n",
       "    <tr style=\"text-align: right;\">\n",
       "      <th></th>\n",
       "      <th>series_id</th>\n",
       "      <th>year</th>\n",
       "      <th>q</th>\n",
       "      <th>value</th>\n",
       "      <th>state_code</th>\n",
       "      <th>MSA_id</th>\n",
       "      <th>st_id</th>\n",
       "      <th>data_type_code</th>\n",
       "      <th>industry_code</th>\n",
       "    </tr>\n",
       "  </thead>\n",
       "  <tbody>\n",
       "    <tr>\n",
       "      <th>0</th>\n",
       "      <td>SMS01000000000000001</td>\n",
       "      <td>1994</td>\n",
       "      <td>1</td>\n",
       "      <td>1734.600000</td>\n",
       "      <td>01</td>\n",
       "      <td>00000</td>\n",
       "      <td>01</td>\n",
       "      <td>01</td>\n",
       "      <td>00000000</td>\n",
       "    </tr>\n",
       "    <tr>\n",
       "      <th>1</th>\n",
       "      <td>SMS01000000000000001</td>\n",
       "      <td>1994</td>\n",
       "      <td>2</td>\n",
       "      <td>1749.033333</td>\n",
       "      <td>01</td>\n",
       "      <td>00000</td>\n",
       "      <td>01</td>\n",
       "      <td>01</td>\n",
       "      <td>00000000</td>\n",
       "    </tr>\n",
       "    <tr>\n",
       "      <th>2</th>\n",
       "      <td>SMS01000000000000001</td>\n",
       "      <td>1994</td>\n",
       "      <td>3</td>\n",
       "      <td>1766.500000</td>\n",
       "      <td>01</td>\n",
       "      <td>00000</td>\n",
       "      <td>01</td>\n",
       "      <td>01</td>\n",
       "      <td>00000000</td>\n",
       "    </tr>\n",
       "    <tr>\n",
       "      <th>3</th>\n",
       "      <td>SMS01000000000000001</td>\n",
       "      <td>1994</td>\n",
       "      <td>4</td>\n",
       "      <td>1783.433333</td>\n",
       "      <td>01</td>\n",
       "      <td>00000</td>\n",
       "      <td>01</td>\n",
       "      <td>01</td>\n",
       "      <td>00000000</td>\n",
       "    </tr>\n",
       "    <tr>\n",
       "      <th>4</th>\n",
       "      <td>SMS01000000000000001</td>\n",
       "      <td>1995</td>\n",
       "      <td>1</td>\n",
       "      <td>1791.600000</td>\n",
       "      <td>01</td>\n",
       "      <td>00000</td>\n",
       "      <td>01</td>\n",
       "      <td>01</td>\n",
       "      <td>00000000</td>\n",
       "    </tr>\n",
       "  </tbody>\n",
       "</table>\n",
       "</div>"
      ],
      "text/plain": [
       "                        series_id  year  q        value state_code MSA_id  \\\n",
       "0  SMS01000000000000001            1994  1  1734.600000         01  00000   \n",
       "1  SMS01000000000000001            1994  2  1749.033333         01  00000   \n",
       "2  SMS01000000000000001            1994  3  1766.500000         01  00000   \n",
       "3  SMS01000000000000001            1994  4  1783.433333         01  00000   \n",
       "4  SMS01000000000000001            1995  1  1791.600000         01  00000   \n",
       "\n",
       "  st_id data_type_code industry_code  \n",
       "0    01             01      00000000  \n",
       "1    01             01      00000000  \n",
       "2    01             01      00000000  \n",
       "3    01             01      00000000  \n",
       "4    01             01      00000000  "
      ]
     },
     "execution_count": 91,
     "metadata": {},
     "output_type": "execute_result"
    }
   ],
   "source": [
    "# for idx,row in c.iterrows():\n",
    "#     print(row[\"series_id\"])\n",
    "\n",
    "# c.apply(lambda x: x['series_id'][0:10])\n",
    "c=b\n",
    "c['state_code']=c['series_id'].str[3:5] #.str.split(',', return_type='frame')\n",
    "c['MSA_id']=c['series_id'].str[5:10] #.str.split(',', return_type='frame')\n",
    "# c['st_MSA_id']=c['series_id'].str[3:10] #.str.split(',', return_type='frame')\n",
    "c['st_id']=c['series_id'].str[3:5] #.str.split(',', return_type='frame')\n",
    "c['data_type_code']=c['series_id'].str[18:20] #.str.split(',', return_type='frame')\n",
    "c['industry_code']=c['series_id'].str[10:18] #.str.split(',', return_type='frame')\n",
    "# c=c[c > '00010']\n",
    "# len(c)\n",
    "c.head()\n",
    "# type(c)\n",
    "    "
   ]
  },
  {
   "cell_type": "markdown",
   "metadata": {},
   "source": [
    "### get rid of state wide codes which I don't have any match in the lookup table "
   ]
  },
  {
   "cell_type": "code",
   "execution_count": 97,
   "metadata": {
    "collapsed": true
   },
   "outputs": [],
   "source": [
    "d=c[c.MSA_id != '00000']"
   ]
  },
  {
   "cell_type": "code",
   "execution_count": null,
   "metadata": {
    "collapsed": true
   },
   "outputs": [],
   "source": []
  },
  {
   "cell_type": "markdown",
   "metadata": {},
   "source": [
    "###### Get rid of differences which are end with 26 in series_id"
   ]
  },
  {
   "cell_type": "code",
   "execution_count": 98,
   "metadata": {
    "collapsed": true
   },
   "outputs": [],
   "source": [
    "d=d[d.data_type_code != '26']"
   ]
  },
  {
   "cell_type": "code",
   "execution_count": null,
   "metadata": {
    "collapsed": true
   },
   "outputs": [],
   "source": []
  },
  {
   "cell_type": "markdown",
   "metadata": {},
   "source": [
    "###### keep only the 'Total Nonfarm'"
   ]
  },
  {
   "cell_type": "code",
   "execution_count": 100,
   "metadata": {
    "collapsed": false
   },
   "outputs": [],
   "source": [
    "d=d[d.industry_code == '00000000']"
   ]
  },
  {
   "cell_type": "code",
   "execution_count": 94,
   "metadata": {
    "collapsed": false
   },
   "outputs": [
    {
     "data": {
      "text/plain": [
       "Index(['series_id', 'year', 'q', 'value', 'state_code', 'MSA_id', 'st_id',\n",
       "       'data_type_code'],\n",
       "      dtype='object')"
      ]
     },
     "execution_count": 94,
     "metadata": {},
     "output_type": "execute_result"
    }
   ],
   "source": [
    "d.columns"
   ]
  },
  {
   "cell_type": "code",
   "execution_count": 115,
   "metadata": {
    "collapsed": false
   },
   "outputs": [
    {
     "data": {
      "text/html": [
       "<div>\n",
       "<table border=\"1\" class=\"dataframe\">\n",
       "  <thead>\n",
       "    <tr style=\"text-align: right;\">\n",
       "      <th></th>\n",
       "      <th></th>\n",
       "      <th></th>\n",
       "      <th>series_id</th>\n",
       "      <th>year</th>\n",
       "      <th>q</th>\n",
       "      <th>value</th>\n",
       "      <th>state_code</th>\n",
       "      <th>MSA_id</th>\n",
       "      <th>st_id</th>\n",
       "      <th>data_type_code</th>\n",
       "      <th>industry_code</th>\n",
       "    </tr>\n",
       "    <tr>\n",
       "      <th>MSA_id</th>\n",
       "      <th>year</th>\n",
       "      <th>q</th>\n",
       "      <th></th>\n",
       "      <th></th>\n",
       "      <th></th>\n",
       "      <th></th>\n",
       "      <th></th>\n",
       "      <th></th>\n",
       "      <th></th>\n",
       "      <th></th>\n",
       "      <th></th>\n",
       "    </tr>\n",
       "  </thead>\n",
       "  <tbody>\n",
       "    <tr>\n",
       "      <th rowspan=\"5\" valign=\"top\">10180</th>\n",
       "      <th rowspan=\"5\" valign=\"top\">1994</th>\n",
       "      <th>1</th>\n",
       "      <td>SMS48101800000000001</td>\n",
       "      <td>1994</td>\n",
       "      <td>1</td>\n",
       "      <td>56.833333</td>\n",
       "      <td>48</td>\n",
       "      <td>10180</td>\n",
       "      <td>48</td>\n",
       "      <td>01</td>\n",
       "      <td>00000000</td>\n",
       "    </tr>\n",
       "    <tr>\n",
       "      <th>1</th>\n",
       "      <td>SMU48101800000000001</td>\n",
       "      <td>1994</td>\n",
       "      <td>1</td>\n",
       "      <td>56.733333</td>\n",
       "      <td>48</td>\n",
       "      <td>10180</td>\n",
       "      <td>48</td>\n",
       "      <td>01</td>\n",
       "      <td>00000000</td>\n",
       "    </tr>\n",
       "    <tr>\n",
       "      <th>2</th>\n",
       "      <td>SMS48101800000000001</td>\n",
       "      <td>1994</td>\n",
       "      <td>2</td>\n",
       "      <td>57.100000</td>\n",
       "      <td>48</td>\n",
       "      <td>10180</td>\n",
       "      <td>48</td>\n",
       "      <td>01</td>\n",
       "      <td>00000000</td>\n",
       "    </tr>\n",
       "    <tr>\n",
       "      <th>2</th>\n",
       "      <td>SMU48101800000000001</td>\n",
       "      <td>1994</td>\n",
       "      <td>2</td>\n",
       "      <td>57.033333</td>\n",
       "      <td>48</td>\n",
       "      <td>10180</td>\n",
       "      <td>48</td>\n",
       "      <td>01</td>\n",
       "      <td>00000000</td>\n",
       "    </tr>\n",
       "    <tr>\n",
       "      <th>3</th>\n",
       "      <td>SMS48101800000000001</td>\n",
       "      <td>1994</td>\n",
       "      <td>3</td>\n",
       "      <td>57.700000</td>\n",
       "      <td>48</td>\n",
       "      <td>10180</td>\n",
       "      <td>48</td>\n",
       "      <td>01</td>\n",
       "      <td>00000000</td>\n",
       "    </tr>\n",
       "  </tbody>\n",
       "</table>\n",
       "</div>"
      ],
      "text/plain": [
       "                                    series_id  year  q      value state_code  \\\n",
       "MSA_id year q                                                                  \n",
       "10180  1994 1  SMS48101800000000001            1994  1  56.833333         48   \n",
       "            1  SMU48101800000000001            1994  1  56.733333         48   \n",
       "            2  SMS48101800000000001            1994  2  57.100000         48   \n",
       "            2  SMU48101800000000001            1994  2  57.033333         48   \n",
       "            3  SMS48101800000000001            1994  3  57.700000         48   \n",
       "\n",
       "              MSA_id st_id data_type_code industry_code  \n",
       "MSA_id year q                                            \n",
       "10180  1994 1  10180    48             01      00000000  \n",
       "            1  10180    48             01      00000000  \n",
       "            2  10180    48             01      00000000  \n",
       "            2  10180    48             01      00000000  \n",
       "            3  10180    48             01      00000000  "
      ]
     },
     "execution_count": 115,
     "metadata": {},
     "output_type": "execute_result"
    }
   ],
   "source": [
    "d=d.set_index(['MSA_id','year','q'],drop=False).sort_index()            #Brandon 1:05    loc\n",
    "d.head()\n",
    "\n"
   ]
  },
  {
   "cell_type": "code",
   "execution_count": 116,
   "metadata": {
    "collapsed": false
   },
   "outputs": [
    {
     "data": {
      "text/plain": [
       "MSA_id  year  q\n",
       "10180   1994  1    56.783333\n",
       "              2    57.066667\n",
       "              3    57.450000\n",
       "              4    58.537500\n",
       "        1995  1    59.150000\n",
       "Name: value, dtype: float64"
      ]
     },
     "execution_count": 116,
     "metadata": {},
     "output_type": "execute_result"
    }
   ],
   "source": [
    "# e=d.groupby(['st_MSA_id','year','q'])['value'].sum().reset_index()   #keep the dataframe\n",
    "e=d.groupby(['MSA_id','year','q'])['value'].mean() #main\n",
    "e.head()"
   ]
  },
  {
   "cell_type": "code",
   "execution_count": 103,
   "metadata": {
    "collapsed": false
   },
   "outputs": [
    {
     "data": {
      "text/plain": [
       "38960"
      ]
     },
     "execution_count": 103,
     "metadata": {},
     "output_type": "execute_result"
    }
   ],
   "source": [
    "len(e)"
   ]
  },
  {
   "cell_type": "code",
   "execution_count": 114,
   "metadata": {
    "collapsed": false
   },
   "outputs": [
    {
     "data": {
      "text/plain": [
       "year  q\n",
       "1994  1    56.783333\n",
       "      2    57.066667\n",
       "      3    57.450000\n",
       "      4    58.537500\n",
       "1995  1    59.150000\n",
       "Name: value, dtype: float64"
      ]
     },
     "execution_count": 114,
     "metadata": {},
     "output_type": "execute_result"
    }
   ],
   "source": [
    "e.loc['10180'].head()\n"
   ]
  },
  {
   "cell_type": "code",
   "execution_count": 122,
   "metadata": {
    "collapsed": false
   },
   "outputs": [
    {
     "data": {
      "text/html": [
       "<div>\n",
       "<table border=\"1\" class=\"dataframe\">\n",
       "  <thead>\n",
       "    <tr style=\"text-align: right;\">\n",
       "      <th></th>\n",
       "      <th></th>\n",
       "      <th></th>\n",
       "      <th>value</th>\n",
       "    </tr>\n",
       "    <tr>\n",
       "      <th>MSA_id</th>\n",
       "      <th>year</th>\n",
       "      <th>q</th>\n",
       "      <th></th>\n",
       "    </tr>\n",
       "  </thead>\n",
       "  <tbody>\n",
       "    <tr>\n",
       "      <th rowspan=\"5\" valign=\"top\">10180</th>\n",
       "      <th rowspan=\"4\" valign=\"top\">1994</th>\n",
       "      <th>1</th>\n",
       "      <td>56.783333</td>\n",
       "    </tr>\n",
       "    <tr>\n",
       "      <th>2</th>\n",
       "      <td>57.066667</td>\n",
       "    </tr>\n",
       "    <tr>\n",
       "      <th>3</th>\n",
       "      <td>57.450000</td>\n",
       "    </tr>\n",
       "    <tr>\n",
       "      <th>4</th>\n",
       "      <td>58.537500</td>\n",
       "    </tr>\n",
       "    <tr>\n",
       "      <th>1995</th>\n",
       "      <th>1</th>\n",
       "      <td>59.150000</td>\n",
       "    </tr>\n",
       "  </tbody>\n",
       "</table>\n",
       "</div>"
      ],
      "text/plain": [
       "                   value\n",
       "MSA_id year q           \n",
       "10180  1994 1  56.783333\n",
       "            2  57.066667\n",
       "            3  57.450000\n",
       "            4  58.537500\n",
       "       1995 1  59.150000"
      ]
     },
     "execution_count": 122,
     "metadata": {},
     "output_type": "execute_result"
    }
   ],
   "source": [
    "f=e.to_frame()\n",
    "f.head()"
   ]
  },
  {
   "cell_type": "code",
   "execution_count": null,
   "metadata": {
    "collapsed": true
   },
   "outputs": [],
   "source": []
  },
  {
   "cell_type": "markdown",
   "metadata": {},
   "source": [
    "### Iterate through all the elements and update the MSA_id with Air_MSA_id"
   ]
  },
  {
   "cell_type": "code",
   "execution_count": 123,
   "metadata": {
    "collapsed": false
   },
   "outputs": [
    {
     "name": "stdout",
     "output_type": "stream",
     "text": [
      "('10180', 1994, 1)\n",
      "value    56.783333\n",
      "Name: (10180, 1994, 1), dtype: float64\n",
      "('10180', 1994, 2)\n",
      "value    57.066667\n",
      "Name: (10180, 1994, 2), dtype: float64\n"
     ]
    }
   ],
   "source": [
    "a = 0\n",
    "for idx,row in f.iterrows():\n",
    "    a+=1\n",
    "    if(a==3):\n",
    "        break\n",
    "    print(idx)\n",
    "    print(row)"
   ]
  },
  {
   "cell_type": "code",
   "execution_count": null,
   "metadata": {
    "collapsed": true
   },
   "outputs": [],
   "source": []
  },
  {
   "cell_type": "code",
   "execution_count": 137,
   "metadata": {
    "collapsed": false
   },
   "outputs": [
    {
     "ename": "AttributeError",
     "evalue": "'_io.TextIOWrapper' object has no attribute 'to_csv'",
     "output_type": "error",
     "traceback": [
      "\u001b[0;31m---------------------------------------------------------------------------\u001b[0m",
      "\u001b[0;31mAttributeError\u001b[0m                            Traceback (most recent call last)",
      "\u001b[0;32m<ipython-input-137-c29b6d989cf5>\u001b[0m in \u001b[0;36m<module>\u001b[0;34m()\u001b[0m\n\u001b[0;32m----> 1\u001b[0;31m \u001b[0mf\u001b[0m\u001b[0;34m.\u001b[0m\u001b[0mto_csv\u001b[0m\u001b[0;34m(\u001b[0m\u001b[0;34m'./all_grouped_MSA_year_quarter.csv'\u001b[0m\u001b[0;34m,\u001b[0m\u001b[0msep\u001b[0m\u001b[0;34m=\u001b[0m\u001b[0;34m','\u001b[0m\u001b[0;34m)\u001b[0m\u001b[0;34m\u001b[0m\u001b[0m\n\u001b[0m",
      "\u001b[0;31mAttributeError\u001b[0m: '_io.TextIOWrapper' object has no attribute 'to_csv'"
     ]
    }
   ],
   "source": [
    "f.to_csv('./all_grouped_MSA_year_quarter.csv',sep=',')"
   ]
  },
  {
   "cell_type": "raw",
   "metadata": {},
   "source": [
    "I don't know how to do it in pandas yet, so I export it to file and now I read the file and create another file"
   ]
  },
  {
   "cell_type": "code",
   "execution_count": 203,
   "metadata": {
    "collapsed": false
   },
   "outputs": [],
   "source": []
  },
  {
   "cell_type": "markdown",
   "metadata": {},
   "source": [
    "###### Only for testing how to iterate through a file"
   ]
  },
  {
   "cell_type": "code",
   "execution_count": 140,
   "metadata": {
    "collapsed": false
   },
   "outputs": [
    {
     "data": {
      "text/plain": [
       "['10180', '1994', '3', '57.86666666666667\\n']"
      ]
     },
     "execution_count": 140,
     "metadata": {},
     "output_type": "execute_result"
    }
   ],
   "source": [
    "f=open('/home/esfp/~courses/848/project/data/bls.gov/all_grouped_MSA_year_quarter.csv','r')\n",
    "a=0\n",
    "for line in f:\n",
    "    parts = line.split(',')\n",
    "    \n",
    "    a+=1\n",
    "    if(a==3):\n",
    "        break\n",
    "\n",
    "parts"
   ]
  },
  {
   "cell_type": "code",
   "execution_count": null,
   "metadata": {
    "collapsed": true
   },
   "outputs": [],
   "source": []
  },
  {
   "cell_type": "code",
   "execution_count": 142,
   "metadata": {
    "collapsed": false
   },
   "outputs": [
    {
     "data": {
      "text/plain": [
       "year  q\n",
       "1994  1    56.783333\n",
       "      2    57.066667\n",
       "      3    57.450000\n",
       "      4    58.537500\n",
       "1995  1    59.150000\n",
       "Name: value, dtype: float64"
      ]
     },
     "execution_count": 142,
     "metadata": {},
     "output_type": "execute_result"
    }
   ],
   "source": [
    "e.loc['10180'].head() "
   ]
  },
  {
   "cell_type": "markdown",
   "metadata": {},
   "source": [
    "###### Plot a specific MSA"
   ]
  },
  {
   "cell_type": "code",
   "execution_count": 135,
   "metadata": {
    "collapsed": false
   },
   "outputs": [
    {
     "data": {
      "text/plain": [
       "<matplotlib.axes._subplots.AxesSubplot at 0x7f4cb3761668>"
      ]
     },
     "execution_count": 135,
     "metadata": {},
     "output_type": "execute_result"
    },
    {
     "data": {
      "image/png": "[encoded data removed]",
      "text/plain": [
       "<matplotlib.figure.Figure at 0x7f4cb3a34278>"
      ]
     },
     "metadata": {},
     "output_type": "display_data"
    }
   ],
   "source": [
    "%matplotlib inline\n",
    "g=e.loc['10180'] \n",
    "\n",
    "g\n",
    "g.plot(figsize=(12, 10))"
   ]
  },
  {
   "cell_type": "code",
   "execution_count": null,
   "metadata": {
    "collapsed": true
   },
   "outputs": [],
   "source": []
  },
  {
   "cell_type": "markdown",
   "metadata": {},
   "source": [
    "## start reading the look up table for metropolitan areas"
   ]
  },
  {
   "cell_type": "code",
   "execution_count": 128,
   "metadata": {
    "collapsed": false
   },
   "outputs": [
    {
     "data": {
      "text/html": [
       "<div>\n",
       "<table border=\"1\" class=\"dataframe\">\n",
       "  <thead>\n",
       "    <tr style=\"text-align: right;\">\n",
       "      <th></th>\n",
       "      <th>MSA_econ</th>\n",
       "      <th>state_econ</th>\n",
       "      <th>state_id_econ</th>\n",
       "      <th>MSA_air</th>\n",
       "      <th>state_air</th>\n",
       "      <th>stateid_air</th>\n",
       "    </tr>\n",
       "  </thead>\n",
       "  <tbody>\n",
       "    <tr>\n",
       "      <th>0</th>\n",
       "      <td>Abilene</td>\n",
       "      <td>TX</td>\n",
       "      <td>10180</td>\n",
       "      <td>Abilene</td>\n",
       "      <td>TX</td>\n",
       "      <td>30136</td>\n",
       "    </tr>\n",
       "    <tr>\n",
       "      <th>1</th>\n",
       "      <td>Aguadilla-Isabela</td>\n",
       "      <td>PR</td>\n",
       "      <td>10380</td>\n",
       "      <td>Aguadilla</td>\n",
       "      <td>PR</td>\n",
       "      <td>30732</td>\n",
       "    </tr>\n",
       "    <tr>\n",
       "      <th>2</th>\n",
       "      <td>Albany</td>\n",
       "      <td>GA</td>\n",
       "      <td>10500</td>\n",
       "      <td>Albany</td>\n",
       "      <td>GA</td>\n",
       "      <td>30146</td>\n",
       "    </tr>\n",
       "    <tr>\n",
       "      <th>3</th>\n",
       "      <td>Albany-Schenectady-Troy</td>\n",
       "      <td>NY</td>\n",
       "      <td>10580</td>\n",
       "      <td>Albany</td>\n",
       "      <td>NY</td>\n",
       "      <td>30257</td>\n",
       "    </tr>\n",
       "    <tr>\n",
       "      <th>4</th>\n",
       "      <td>Albuquerque</td>\n",
       "      <td>NM</td>\n",
       "      <td>10740</td>\n",
       "      <td>Albuquerque</td>\n",
       "      <td>NM</td>\n",
       "      <td>30140</td>\n",
       "    </tr>\n",
       "  </tbody>\n",
       "</table>\n",
       "</div>"
      ],
      "text/plain": [
       "                  MSA_econ state_econ  state_id_econ      MSA_air state_air  \\\n",
       "0                  Abilene         TX          10180      Abilene        TX   \n",
       "1        Aguadilla-Isabela         PR          10380    Aguadilla        PR   \n",
       "2                   Albany         GA          10500       Albany        GA   \n",
       "3  Albany-Schenectady-Troy         NY          10580       Albany        NY   \n",
       "4              Albuquerque         NM          10740  Albuquerque        NM   \n",
       "\n",
       "   stateid_air  \n",
       "0        30136  \n",
       "1        30732  \n",
       "2        30146  \n",
       "3        30257  \n",
       "4        30140  "
      ]
     },
     "execution_count": 128,
     "metadata": {},
     "output_type": "execute_result"
    }
   ],
   "source": [
    "lk = pd.read_csv('/home/esfp/~courses/848/project/data/bls.gov/merged_lookup.csv', delimiter=',')\n",
    "lk.head()"
   ]
  },
  {
   "cell_type": "code",
   "execution_count": 129,
   "metadata": {
    "collapsed": false
   },
   "outputs": [],
   "source": [
    "lookup={}\n",
    "f=open('/home/esfp/~courses/848/project/data/bls.gov/merged_lookup.csv','r')\n",
    "for line in f:\n",
    "       parts = line.split(',')\n",
    "       lookup[parts[2]]=parts[5][0:5]\n",
    "# lookup"
   ]
  },
  {
   "cell_type": "code",
   "execution_count": 130,
   "metadata": {
    "collapsed": false
   },
   "outputs": [
    {
     "data": {
      "text/plain": [
       "'30136'"
      ]
     },
     "execution_count": 130,
     "metadata": {},
     "output_type": "execute_result"
    }
   ],
   "source": [
    "lookup['10180']"
   ]
  },
  {
   "cell_type": "code",
   "execution_count": null,
   "metadata": {
    "collapsed": true
   },
   "outputs": [],
   "source": []
  },
  {
   "cell_type": "code",
   "execution_count": 131,
   "metadata": {
    "collapsed": false
   },
   "outputs": [],
   "source": [
    "f_in=open('./all_grouped_MSA_year_quarter.csv','r')\n",
    "f_out=open('./all_grouped_MSA_year_quarter_with_lookup.csv','w')\n",
    "# a=0\n",
    "for line in f_in:\n",
    "    parts = line.split(',')\n",
    "    if( parts[0] in lookup):        # skip metropolitan areas which are not exist in lookup table\n",
    "        f_out.write('%s,%s,%s,%s,%s\\n'%(parts[0],parts[1],parts[2],parts[3].split('\\n')[0],lookup[parts[0]]))\n",
    "\n",
    "#     a+=1                  #for test purpose\n",
    "#     if(a==3):\n",
    "#         break\n",
    "f_in.close()\n",
    "f_out.close()\n",
    "    "
   ]
  },
  {
   "cell_type": "code",
   "execution_count": null,
   "metadata": {
    "collapsed": false
   },
   "outputs": [],
   "source": []
  },
  {
   "cell_type": "markdown",
   "metadata": {},
   "source": [
    "## Read the whole data"
   ]
  },
  {
   "cell_type": "code",
   "execution_count": 266,
   "metadata": {
    "collapsed": true
   },
   "outputs": [],
   "source": [
    "import pandas as pd"
   ]
  },
  {
   "cell_type": "code",
   "execution_count": 143,
   "metadata": {
    "collapsed": false
   },
   "outputs": [
    {
     "data": {
      "text/html": [
       "<div>\n",
       "<table border=\"1\" class=\"dataframe\">\n",
       "  <thead>\n",
       "    <tr style=\"text-align: right;\">\n",
       "      <th></th>\n",
       "      <th>MSA_id_economy</th>\n",
       "      <th>year</th>\n",
       "      <th>quarter</th>\n",
       "      <th>mean_value</th>\n",
       "      <th>MSA_id_airline</th>\n",
       "    </tr>\n",
       "  </thead>\n",
       "  <tbody>\n",
       "    <tr>\n",
       "      <th>0</th>\n",
       "      <td>10180</td>\n",
       "      <td>1994</td>\n",
       "      <td>1</td>\n",
       "      <td>56.966667</td>\n",
       "      <td>30136</td>\n",
       "    </tr>\n",
       "    <tr>\n",
       "      <th>1</th>\n",
       "      <td>10180</td>\n",
       "      <td>1994</td>\n",
       "      <td>2</td>\n",
       "      <td>57.200000</td>\n",
       "      <td>30136</td>\n",
       "    </tr>\n",
       "    <tr>\n",
       "      <th>2</th>\n",
       "      <td>10180</td>\n",
       "      <td>1994</td>\n",
       "      <td>3</td>\n",
       "      <td>57.866667</td>\n",
       "      <td>30136</td>\n",
       "    </tr>\n",
       "    <tr>\n",
       "      <th>3</th>\n",
       "      <td>10180</td>\n",
       "      <td>1994</td>\n",
       "      <td>4</td>\n",
       "      <td>58.666667</td>\n",
       "      <td>30136</td>\n",
       "    </tr>\n",
       "    <tr>\n",
       "      <th>4</th>\n",
       "      <td>10180</td>\n",
       "      <td>1995</td>\n",
       "      <td>1</td>\n",
       "      <td>59.466667</td>\n",
       "      <td>30136</td>\n",
       "    </tr>\n",
       "  </tbody>\n",
       "</table>\n",
       "</div>"
      ],
      "text/plain": [
       "   MSA_id_economy  year  quarter  mean_value  MSA_id_airline\n",
       "0           10180  1994        1   56.966667           30136\n",
       "1           10180  1994        2   57.200000           30136\n",
       "2           10180  1994        3   57.866667           30136\n",
       "3           10180  1994        4   58.666667           30136\n",
       "4           10180  1995        1   59.466667           30136"
      ]
     },
     "execution_count": 143,
     "metadata": {},
     "output_type": "execute_result"
    }
   ],
   "source": [
    "df = pd.read_csv('/home/esfp/~courses/848/project/data/bls.gov/all_grouped_MSA_year_quarter_with_lookup.csv', delimiter=',')\n",
    "df.head()"
   ]
  },
  {
   "cell_type": "markdown",
   "metadata": {},
   "source": [
    "#### set new index based on airline "
   ]
  },
  {
   "cell_type": "code",
   "execution_count": 145,
   "metadata": {
    "collapsed": false
   },
   "outputs": [
    {
     "data": {
      "text/html": [
       "<div>\n",
       "<table border=\"1\" class=\"dataframe\">\n",
       "  <thead>\n",
       "    <tr style=\"text-align: right;\">\n",
       "      <th></th>\n",
       "      <th></th>\n",
       "      <th></th>\n",
       "      <th>MSA_id_economy</th>\n",
       "      <th>year</th>\n",
       "      <th>quarter</th>\n",
       "      <th>mean_value</th>\n",
       "      <th>MSA_id_airline</th>\n",
       "    </tr>\n",
       "    <tr>\n",
       "      <th>MSA_id_airline</th>\n",
       "      <th>year</th>\n",
       "      <th>quarter</th>\n",
       "      <th></th>\n",
       "      <th></th>\n",
       "      <th></th>\n",
       "      <th></th>\n",
       "      <th></th>\n",
       "    </tr>\n",
       "  </thead>\n",
       "  <tbody>\n",
       "    <tr>\n",
       "      <th rowspan=\"5\" valign=\"top\">30136</th>\n",
       "      <th rowspan=\"4\" valign=\"top\">1994</th>\n",
       "      <th>1</th>\n",
       "      <td>10180</td>\n",
       "      <td>1994</td>\n",
       "      <td>1</td>\n",
       "      <td>56.966667</td>\n",
       "      <td>30136</td>\n",
       "    </tr>\n",
       "    <tr>\n",
       "      <th>2</th>\n",
       "      <td>10180</td>\n",
       "      <td>1994</td>\n",
       "      <td>2</td>\n",
       "      <td>57.200000</td>\n",
       "      <td>30136</td>\n",
       "    </tr>\n",
       "    <tr>\n",
       "      <th>3</th>\n",
       "      <td>10180</td>\n",
       "      <td>1994</td>\n",
       "      <td>3</td>\n",
       "      <td>57.866667</td>\n",
       "      <td>30136</td>\n",
       "    </tr>\n",
       "    <tr>\n",
       "      <th>4</th>\n",
       "      <td>10180</td>\n",
       "      <td>1994</td>\n",
       "      <td>4</td>\n",
       "      <td>58.666667</td>\n",
       "      <td>30136</td>\n",
       "    </tr>\n",
       "    <tr>\n",
       "      <th>1995</th>\n",
       "      <th>1</th>\n",
       "      <td>10180</td>\n",
       "      <td>1995</td>\n",
       "      <td>1</td>\n",
       "      <td>59.466667</td>\n",
       "      <td>30136</td>\n",
       "    </tr>\n",
       "  </tbody>\n",
       "</table>\n",
       "</div>"
      ],
      "text/plain": [
       "                             MSA_id_economy  year  quarter  mean_value  \\\n",
       "MSA_id_airline year quarter                                              \n",
       "30136          1994 1                 10180  1994        1   56.966667   \n",
       "                    2                 10180  1994        2   57.200000   \n",
       "                    3                 10180  1994        3   57.866667   \n",
       "                    4                 10180  1994        4   58.666667   \n",
       "               1995 1                 10180  1995        1   59.466667   \n",
       "\n",
       "                             MSA_id_airline  \n",
       "MSA_id_airline year quarter                  \n",
       "30136          1994 1                 30136  \n",
       "                    2                 30136  \n",
       "                    3                 30136  \n",
       "                    4                 30136  \n",
       "               1995 1                 30136  "
      ]
     },
     "execution_count": 145,
     "metadata": {},
     "output_type": "execute_result"
    }
   ],
   "source": [
    "a=df.set_index(['MSA_id_airline','year','quarter'],drop=False).sort_index()            #Brandon 1:05    loc\n",
    "a[a.MSA_id_airline == 30136].head()"
   ]
  },
  {
   "cell_type": "code",
   "execution_count": null,
   "metadata": {
    "collapsed": true
   },
   "outputs": [],
   "source": []
  },
  {
   "cell_type": "markdown",
   "metadata": {},
   "source": [
    "### plot an area"
   ]
  },
  {
   "cell_type": "code",
   "execution_count": 146,
   "metadata": {
    "collapsed": false
   },
   "outputs": [
    {
     "data": {
      "text/plain": [
       "<matplotlib.axes._subplots.AxesSubplot at 0x7f4cb3a38588>"
      ]
     },
     "execution_count": 146,
     "metadata": {},
     "output_type": "execute_result"
    },
    {
     "data": {
      "image/png": "[encoded data removed]",
      "text/plain": [
       "<matplotlib.figure.Figure at 0x7f4cb3971a58>"
      ]
     },
     "metadata": {},
     "output_type": "display_data"
    }
   ],
   "source": [
    "%matplotlib inline\n",
    "b=a.loc[30136] \n",
    "b['mean_value'].plot(figsize=(12, 10))"
   ]
  },
  {
   "cell_type": "code",
   "execution_count": null,
   "metadata": {
    "collapsed": true
   },
   "outputs": [],
   "source": []
  }
 ],
 "metadata": {
  "anaconda-cloud": {},
  "kernelspec": {
   "display_name": "Python [default]",
   "language": "python",
   "name": "python3"
  },
  "language_info": {
   "codemirror_mode": {
    "name": "ipython",
    "version": 3
   },
   "file_extension": ".py",
   "mimetype": "text/x-python",
   "name": "python",
   "nbconvert_exporter": "python",
   "pygments_lexer": "ipython3",
   "version": "3.5.2"
  }
 },
 "nbformat": 4,
 "nbformat_minor": 0
}
